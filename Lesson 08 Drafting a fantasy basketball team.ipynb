{
 "cells": [
  {
   "cell_type": "markdown",
   "metadata": {
    "hide_cell": true
   },
   "source": [
    "<span class='note'>*Make me look good.* Click on the cell below and press <kbd>Ctrl</kbd>-<kbd>Enter</kbd>.</span>"
   ]
  },
  {
   "cell_type": "code",
   "execution_count": 1,
   "metadata": {
    "hide_cell": true
   },
   "outputs": [
    {
     "data": {
      "text/html": [
       "<link href='http://fonts.googleapis.com/css?family=Lora:400,700,400i,700i' rel='stylesheet'>\n",
       "<link href='https://fonts.googleapis.com/css?family=Lato:300,400,700,300i,400i,700i' rel='stylesheet'>\n",
       "<link href='https://fonts.googleapis.com/css?family=Inconsolata:400' rel='stylesheet'>\n",
       "<link rel=\"stylesheet\" href=\"http://maxcdn.bootstrapcdn.com/font-awesome/4.3.0/css/font-awesome.min.css\">\n",
       "<style>\n",
       "    h1, h2, h3, h4, h5 {\n",
       "        font-family: 'Lato', sans-serif;\n",
       "    }\n",
       "    h5 {\n",
       "        font-style: normal;\n",
       "    }\n",
       "    kbd {\n",
       "        font-family: Lato, serif;\n",
       "    }\n",
       "    .cite {\n",
       "        font-size: 85%;\n",
       "        text-align: right;\n",
       "        margin-top: 10px;\n",
       "    }\n",
       "    .note {\n",
       "        font-family: Lora, serif;\n",
       "        font-size: 10pt;\n",
       "        font-weight: 400;\n",
       "        margin-top: 0;\n",
       "        margin-bottom: 0;\n",
       "    }\n",
       "    h5.prehead {\n",
       "        font-family: Lato, serif;\n",
       "        font-style: normal;\n",
       "        font-size: 13pt;\n",
       "        font-weight: 300;\n",
       "        margin-bottom: 15px;\n",
       "        margin-top: 30px;\n",
       "    }\n",
       "    h5.lesson {\n",
       "        font-family: Lato, serif;\n",
       "        font-weight: 400;\n",
       "        font-size: 13pt;\n",
       "        font-style: normal;   \n",
       "        margin-top: 0px;\n",
       "        margin-bottom: 5px;\n",
       "    }\n",
       "    h1.lesson_title {\n",
       "        font-family: Lato, serif;\n",
       "        font-weight: 300;\n",
       "        font-size: 32pt;\n",
       "        line-height: 110%;\n",
       "        color:#CD2305;\n",
       "        margin-top: 0px;\n",
       "        margin-bottom: 15px;\n",
       "    }   \n",
       "    div.cell{\n",
       "        max-width: 960px;\n",
       "        margin-left: auto;\n",
       "        margin-right: auto;\n",
       "    }\n",
       "    div.text_cell_render {\n",
       "        font-family: Lora, serif;\n",
       "        line-height: 160%;\n",
       "        font-size: 11pt;\n",
       "    }\n",
       "    .rendered_html pre, .rendered_html code  {\n",
       "        font-family: Inconsolata, monospace !important;\n",
       "    }\n",
       "    div.CodeMirror, div.output_area pre, div.prompt {\n",
       "        font-family: Inconsolata, monospace !important;\n",
       "        font-size: 110%;\n",
       "    }\n",
       "    .rendered_html ul li {\n",
       "        margin-top: 0.75em;\n",
       "        margin-bottom: 0.75em; \n",
       "    }\n",
       "    .rendered_html ul li ul li {\n",
       "        margin-top: 0.5em;\n",
       "        margin-bottom: 0.5em; \n",
       "    }\n",
       "    .rred {\n",
       "        color: #a00000;\n",
       "    }\n",
       "</style>\n",
       "<script>\n",
       "    MathJax.Hub.Config({\n",
       "                        TeX: {\n",
       "                           extensions: [\"AMSmath.js\"]\n",
       "                           },\n",
       "                tex2jax: {\n",
       "                    inlineMath: [ ['$','$'], [\"\\\\(\",\"\\\\)\"] ],\n",
       "                    displayMath: [ ['$$','$$'], [\"\\\\[\",\"\\\\]\"] ]\n",
       "                },\n",
       "                displayAlign: 'center', // Change this to 'center' to center equations.\n",
       "                \"HTML-CSS\": {\n",
       "                    styles: {'.MathJax_Display': {\"margin\": \"0.75em 0\"}}\n",
       "                }\n",
       "        });\n",
       "</script>\n"
      ],
      "text/plain": [
       "<IPython.core.display.HTML object>"
      ]
     },
     "execution_count": 1,
     "metadata": {},
     "output_type": "execute_result"
    }
   ],
   "source": [
    "from IPython.core.display import HTML\n",
    "HTML(open('css/custom.css', 'r').read())"
   ]
  },
  {
   "cell_type": "markdown",
   "metadata": {
    "hide_cell": true
   },
   "source": [
    "<h5 class='prehead'>SA367 &middot; Mathematical Models for Decision Making &middot; Spring 2021 &middot; Uhan</h5>\n",
    "\n",
    "<h5 class='lesson'>Lesson 8.</h5>\n",
    "\n",
    "<h1 class='lesson_title'>Drafting a fantasy basketball team</h1>"
   ]
  },
  {
   "cell_type": "markdown",
   "metadata": {},
   "source": [
    "## The problem"
   ]
  },
  {
   "cell_type": "markdown",
   "metadata": {},
   "source": [
    "You're preparing for your upcoming fantasy basketball draft. You wonder: what is the best possible team you can draft?\n",
    "\n",
    "You have the following data:\n",
    "\n",
    "* Projected __auction prices__ for each player in the NBA.\n",
    "* The __z-score__ for each player: the sum of the number of standard deviations above the mean in the following 9 categories:\n",
    "    1. points per 36 minutes\n",
    "    2. 3 point field goals made per 36 minutes\n",
    "    3. number of rebounds per 36 minutes\n",
    "    4. number of assists per 36 minutes\n",
    "    5. number of steals per 36 minutes\n",
    "    6. number of blocks per 36 minutes\n",
    "    7. _negative_ of the number of turnovers per 36 minutes\n",
    "    8. field goal percentage\n",
    "    9. free throw percentage\n",
    "    \n",
    "Your roster must have exactly 12 players, and you have a budget of \\$50. You want to maximize the total z-score of your team.\n",
    "\n",
    "Formulate this problem as a dynamic program by giving its shortest/longest path representation."
   ]
  },
  {
   "cell_type": "markdown",
   "metadata": {},
   "source": [
    "## Setting up the data"
   ]
  },
  {
   "cell_type": "markdown",
   "metadata": {},
   "source": [
    "* In the same folder as this notebook, there is a file called `fantasy_basketball_nba2017.csv` with the data described above.\n",
    "    - The z-scores were computed using projected stats from [Basketball Reference](http://www.basketball-reference.com/friv/projections.cgi).\n",
    "    - Projected auction prices were taken from [Yahoo! Fantasy Sports](https://basketball.fantasysports.yahoo.com/nba/draftanalysis?tab=AD&pos=ALL&sort=DA_AP), normalized to a budget of \\$50.\n",
    "    \n",
    "\n",
    "*  Let's take a look using pandas. First, let's import pandas:"
   ]
  },
  {
   "cell_type": "code",
   "execution_count": 2,
   "metadata": {},
   "outputs": [],
   "source": [
    "# Import pandas\n",
    "import pandas as pd"
   ]
  },
  {
   "cell_type": "markdown",
   "metadata": {},
   "source": [
    "* Now we can read the `csv` file into a pandas DataFrame and inspect the first few rows:"
   ]
  },
  {
   "cell_type": "code",
   "execution_count": 3,
   "metadata": {},
   "outputs": [
    {
     "data": {
      "text/html": [
       "<div>\n",
       "<style scoped>\n",
       "    .dataframe tbody tr th:only-of-type {\n",
       "        vertical-align: middle;\n",
       "    }\n",
       "\n",
       "    .dataframe tbody tr th {\n",
       "        vertical-align: top;\n",
       "    }\n",
       "\n",
       "    .dataframe thead th {\n",
       "        text-align: right;\n",
       "    }\n",
       "</style>\n",
       "<table border=\"1\" class=\"dataframe\">\n",
       "  <thead>\n",
       "    <tr style=\"text-align: right;\">\n",
       "      <th></th>\n",
       "      <th>PLAYER</th>\n",
       "      <th>TEAM</th>\n",
       "      <th>POSITIONS</th>\n",
       "      <th>ZSCORE</th>\n",
       "      <th>PRICE</th>\n",
       "    </tr>\n",
       "  </thead>\n",
       "  <tbody>\n",
       "    <tr>\n",
       "      <td>0</td>\n",
       "      <td>Stephen Curry</td>\n",
       "      <td>GS</td>\n",
       "      <td>PG,SG</td>\n",
       "      <td>12.681705</td>\n",
       "      <td>18</td>\n",
       "    </tr>\n",
       "    <tr>\n",
       "      <td>1</td>\n",
       "      <td>Kawhi Leonard</td>\n",
       "      <td>SA</td>\n",
       "      <td>SG,SF</td>\n",
       "      <td>8.994709</td>\n",
       "      <td>16</td>\n",
       "    </tr>\n",
       "    <tr>\n",
       "      <td>2</td>\n",
       "      <td>Chris Paul</td>\n",
       "      <td>LAC</td>\n",
       "      <td>PG</td>\n",
       "      <td>8.485619</td>\n",
       "      <td>15</td>\n",
       "    </tr>\n",
       "    <tr>\n",
       "      <td>3</td>\n",
       "      <td>Anthony Davis</td>\n",
       "      <td>NO</td>\n",
       "      <td>PF,C</td>\n",
       "      <td>8.357714</td>\n",
       "      <td>15</td>\n",
       "    </tr>\n",
       "    <tr>\n",
       "      <td>4</td>\n",
       "      <td>Kevin Durant</td>\n",
       "      <td>GS</td>\n",
       "      <td>SF,PF</td>\n",
       "      <td>7.848493</td>\n",
       "      <td>18</td>\n",
       "    </tr>\n",
       "  </tbody>\n",
       "</table>\n",
       "</div>"
      ],
      "text/plain": [
       "          PLAYER TEAM POSITIONS     ZSCORE  PRICE\n",
       "0  Stephen Curry   GS     PG,SG  12.681705     18\n",
       "1  Kawhi Leonard   SA     SG,SF   8.994709     16\n",
       "2     Chris Paul  LAC        PG   8.485619     15\n",
       "3  Anthony Davis   NO      PF,C   8.357714     15\n",
       "4   Kevin Durant   GS     SF,PF   7.848493     18"
      ]
     },
     "execution_count": 3,
     "metadata": {},
     "output_type": "execute_result"
    }
   ],
   "source": [
    "# Read csv file with data\n",
    "df = pd.read_csv('fantasy_basketball_nba2017.csv')\n",
    "\n",
    "# Print the first 5 rows of df\n",
    "df.head()"
   ]
  },
  {
   "cell_type": "markdown",
   "metadata": {},
   "source": [
    "* As we can see, the data also contains the team and positions for each player.\n",
    "\n",
    "* Next, let's create some lists that correspond to the relevant columns of the dataset.\n",
    "\n",
    "* Recall that we can grab a column from a DataFrame like this:\n",
    "\n",
    "```python\n",
    "df['COLUMN_NAME']\n",
    "```\n",
    "\n",
    "* The `list()` function turns any list-like object (such as a column of a pandas DataFrame) into a Python list.\n",
    "\n",
    "* We can apply the `.str.split(\",\")` method to convert a comma-delimited string into a list. This will be helpful in parsing the positions that a player can play, since many players can play multiple positions."
   ]
  },
  {
   "cell_type": "code",
   "execution_count": 4,
   "metadata": {},
   "outputs": [],
   "source": [
    "# Create a list of players\n",
    "players = list(df[\"PLAYER\"])\n",
    "\n",
    "# Create a list of zscores\n",
    "zscores = list(df[\"ZSCORE\"])\n",
    "\n",
    "# Create a list of prices\n",
    "prices = list(df[\"PRICE\"])\n",
    "\n",
    "# Create a list of positions\n",
    "positions = list(df[\"POSITIONS\"].str.split(\",\"))"
   ]
  },
  {
   "cell_type": "markdown",
   "metadata": {},
   "source": [
    "* Now we can look at player $t$ and his associated data like this: "
   ]
  },
  {
   "cell_type": "code",
   "execution_count": 5,
   "metadata": {
    "scrolled": true
   },
   "outputs": [
    {
     "name": "stdout",
     "output_type": "stream",
     "text": [
      "Anthony Davis\n",
      "8.357714143615143\n",
      "15\n",
      "['PF', 'C']\n"
     ]
    }
   ],
   "source": [
    "# Print out information about player 3 - Anthony Davis\n",
    "print(players[3])\n",
    "print(zscores[3])\n",
    "print(prices[3])\n",
    "print(positions[3])"
   ]
  },
  {
   "cell_type": "markdown",
   "metadata": {},
   "source": [
    "* Let's also create a variable that holds the number of players:"
   ]
  },
  {
   "cell_type": "code",
   "execution_count": 6,
   "metadata": {
    "scrolled": false
   },
   "outputs": [],
   "source": [
    "# Create a variable for the number of players\n",
    "n_players = len(players)"
   ]
  },
  {
   "cell_type": "markdown",
   "metadata": {},
   "source": [
    "* Now we can use these lists and variables to construct the graph for the dynamic program."
   ]
  },
  {
   "cell_type": "markdown",
   "metadata": {},
   "source": [
    "## Solving the DP"
   ]
  },
  {
   "cell_type": "markdown",
   "metadata": {},
   "source": [
    "* There are two important constants in our problem: the budget, and the roster size. \n",
    "\n",
    "* Let's create variables to hold these constants.\n",
    "\n",
    "* This way, we can easily adapt our code to accomodate similar DPs with different budgets and roster sizes."
   ]
  },
  {
   "cell_type": "code",
   "execution_count": 7,
   "metadata": {},
   "outputs": [],
   "source": [
    "# Create variables to hold constants: budget, roster size\n",
    "BUDGET = 50\n",
    "ROSTER_SIZE = 12"
   ]
  },
  {
   "cell_type": "markdown",
   "metadata": {},
   "source": [
    "* Next, let's import `networkx` and `bellmanford`:"
   ]
  },
  {
   "cell_type": "code",
   "execution_count": 8,
   "metadata": {},
   "outputs": [],
   "source": [
    "# Import networkx and bellman ford\n",
    "import networkx as nx\n",
    "import bellmanford as bf"
   ]
  },
  {
   "cell_type": "markdown",
   "metadata": {},
   "source": [
    "* As usual, we start with an empty graph:"
   ]
  },
  {
   "cell_type": "code",
   "execution_count": 9,
   "metadata": {},
   "outputs": [],
   "source": [
    "# Create empty digraph\n",
    "G = nx.DiGraph()"
   ]
  },
  {
   "cell_type": "markdown",
   "metadata": {},
   "source": [
    "* Next, let's add the nodes:"
   ]
  },
  {
   "cell_type": "code",
   "execution_count": 10,
   "metadata": {},
   "outputs": [],
   "source": [
    "# Add stage-state nodes (t, n1, n2)\n",
    "for t in range(0, n_players + 1):\n",
    "    for n1 in range(0, BUDGET + 1):\n",
    "        for n2 in range(0, ROSTER_SIZE + 1):\n",
    "            G.add_node((t, n1, n2))\n",
    "\n",
    "# Add the end node\n",
    "G.add_node(\"end\")"
   ]
  },
  {
   "cell_type": "markdown",
   "metadata": {},
   "source": [
    "* How many nodes do we have in our graph?"
   ]
  },
  {
   "cell_type": "code",
   "execution_count": 11,
   "metadata": {},
   "outputs": [
    {
     "name": "stdout",
     "output_type": "stream",
     "text": [
      "293710\n"
     ]
    }
   ],
   "source": [
    "# Print number of nodes in digraph\n",
    "print(G.number_of_nodes())"
   ]
  },
  {
   "cell_type": "markdown",
   "metadata": {},
   "source": [
    "* Now it's time to add the edges.\n",
    "\n",
    "* Let's start with the edges corresponding to the decision of whether to take a player or not:"
   ]
  },
  {
   "cell_type": "code",
   "execution_count": 12,
   "metadata": {},
   "outputs": [],
   "source": [
    "# Add edges corresponding to the decision of whether to take a player or not\n",
    "for t in range(0, n_players):\n",
    "    for n1 in range(0, BUDGET + 1):\n",
    "        for n2 in range(0, ROSTER_SIZE + 1):\n",
    "            \n",
    "            # Don't take the player\n",
    "            G.add_edge((t, n1, n2), (t + 1, n1, n2), length=0)\n",
    "\n",
    "            # Take the player if there's enough left in the budget\n",
    "            # and there are enough roster spots\n",
    "            if n1 - prices[t] >= 0:\n",
    "                if n2 - 1 >= 0:\n",
    "                    G.add_edge((t, n1, n2), (t + 1, n1 - prices[t], n2 - 1), length=-zscores[t])"
   ]
  },
  {
   "cell_type": "markdown",
   "metadata": {},
   "source": [
    "* Now we can add the edges from the last stage to the end node. Remember to only add edges from the last stage if the number of remaining roster spots $n_2$ is equal to 0!"
   ]
  },
  {
   "cell_type": "code",
   "execution_count": 13,
   "metadata": {},
   "outputs": [],
   "source": [
    "# Add edges from last stage to end, \n",
    "# only when number of remaining roster spots is 0\n",
    "for n1 in range(0, BUDGET + 1):\n",
    "    G.add_edge((n_players, n1, 0), \"end\", length=0)"
   ]
  },
  {
   "cell_type": "markdown",
   "metadata": {},
   "source": [
    "* How many edges do we have in our graph?"
   ]
  },
  {
   "cell_type": "code",
   "execution_count": 14,
   "metadata": {},
   "outputs": [
    {
     "name": "stdout",
     "output_type": "stream",
     "text": [
      "550545\n"
     ]
    }
   ],
   "source": [
    "# Print number of edges\n",
    "print(G.number_of_edges())"
   ]
  },
  {
   "cell_type": "markdown",
   "metadata": {},
   "source": [
    "* Finally, let's solve the shortest path problem we've constructed using the Bellman-Ford algorithm:"
   ]
  },
  {
   "cell_type": "code",
   "execution_count": 15,
   "metadata": {},
   "outputs": [
    {
     "name": "stdout",
     "output_type": "stream",
     "text": [
      "Negative cycle? False\n",
      "Shortest path length: -57.45369330886113\n",
      "Shortest path: [(0, 50, 12), (1, 32, 11), (2, 32, 11), (3, 32, 11), (4, 32, 11), (5, 32, 11), (6, 32, 11), (7, 32, 11), (8, 32, 11), (9, 23, 10), (10, 15, 9), (11, 15, 9), (12, 14, 8), (13, 14, 8), (14, 14, 8), (15, 14, 8), (16, 14, 8), (17, 14, 8), (18, 13, 7), (19, 13, 7), (20, 13, 7), (21, 13, 7), (22, 13, 7), (23, 13, 7), (24, 12, 6), (25, 9, 5), (26, 9, 5), (27, 9, 5), (28, 5, 4), (29, 5, 4), (30, 5, 4), (31, 5, 4), (32, 5, 4), (33, 5, 4), (34, 5, 4), (35, 5, 4), (36, 5, 4), (37, 5, 4), (38, 5, 4), (39, 5, 4), (40, 5, 4), (41, 3, 3), (42, 3, 3), (43, 3, 3), (44, 3, 3), (45, 3, 3), (46, 3, 3), (47, 3, 3), (48, 2, 2), (49, 2, 2), (50, 2, 2), (51, 2, 2), (52, 1, 1), (53, 0, 0), (54, 0, 0), (55, 0, 0), (56, 0, 0), (57, 0, 0), (58, 0, 0), (59, 0, 0), (60, 0, 0), (61, 0, 0), (62, 0, 0), (63, 0, 0), (64, 0, 0), (65, 0, 0), (66, 0, 0), (67, 0, 0), (68, 0, 0), (69, 0, 0), (70, 0, 0), (71, 0, 0), (72, 0, 0), (73, 0, 0), (74, 0, 0), (75, 0, 0), (76, 0, 0), (77, 0, 0), (78, 0, 0), (79, 0, 0), (80, 0, 0), (81, 0, 0), (82, 0, 0), (83, 0, 0), (84, 0, 0), (85, 0, 0), (86, 0, 0), (87, 0, 0), (88, 0, 0), (89, 0, 0), (90, 0, 0), (91, 0, 0), (92, 0, 0), (93, 0, 0), (94, 0, 0), (95, 0, 0), (96, 0, 0), (97, 0, 0), (98, 0, 0), (99, 0, 0), (100, 0, 0), (101, 0, 0), (102, 0, 0), (103, 0, 0), (104, 0, 0), (105, 0, 0), (106, 0, 0), (107, 0, 0), (108, 0, 0), (109, 0, 0), (110, 0, 0), (111, 0, 0), (112, 0, 0), (113, 0, 0), (114, 0, 0), (115, 0, 0), (116, 0, 0), (117, 0, 0), (118, 0, 0), (119, 0, 0), (120, 0, 0), (121, 0, 0), (122, 0, 0), (123, 0, 0), (124, 0, 0), (125, 0, 0), (126, 0, 0), (127, 0, 0), (128, 0, 0), (129, 0, 0), (130, 0, 0), (131, 0, 0), (132, 0, 0), (133, 0, 0), (134, 0, 0), (135, 0, 0), (136, 0, 0), (137, 0, 0), (138, 0, 0), (139, 0, 0), (140, 0, 0), (141, 0, 0), (142, 0, 0), (143, 0, 0), (144, 0, 0), (145, 0, 0), (146, 0, 0), (147, 0, 0), (148, 0, 0), (149, 0, 0), (150, 0, 0), (151, 0, 0), (152, 0, 0), (153, 0, 0), (154, 0, 0), (155, 0, 0), (156, 0, 0), (157, 0, 0), (158, 0, 0), (159, 0, 0), (160, 0, 0), (161, 0, 0), (162, 0, 0), (163, 0, 0), (164, 0, 0), (165, 0, 0), (166, 0, 0), (167, 0, 0), (168, 0, 0), (169, 0, 0), (170, 0, 0), (171, 0, 0), (172, 0, 0), (173, 0, 0), (174, 0, 0), (175, 0, 0), (176, 0, 0), (177, 0, 0), (178, 0, 0), (179, 0, 0), (180, 0, 0), (181, 0, 0), (182, 0, 0), (183, 0, 0), (184, 0, 0), (185, 0, 0), (186, 0, 0), (187, 0, 0), (188, 0, 0), (189, 0, 0), (190, 0, 0), (191, 0, 0), (192, 0, 0), (193, 0, 0), (194, 0, 0), (195, 0, 0), (196, 0, 0), (197, 0, 0), (198, 0, 0), (199, 0, 0), (200, 0, 0), (201, 0, 0), (202, 0, 0), (203, 0, 0), (204, 0, 0), (205, 0, 0), (206, 0, 0), (207, 0, 0), (208, 0, 0), (209, 0, 0), (210, 0, 0), (211, 0, 0), (212, 0, 0), (213, 0, 0), (214, 0, 0), (215, 0, 0), (216, 0, 0), (217, 0, 0), (218, 0, 0), (219, 0, 0), (220, 0, 0), (221, 0, 0), (222, 0, 0), (223, 0, 0), (224, 0, 0), (225, 0, 0), (226, 0, 0), (227, 0, 0), (228, 0, 0), (229, 0, 0), (230, 0, 0), (231, 0, 0), (232, 0, 0), (233, 0, 0), (234, 0, 0), (235, 0, 0), (236, 0, 0), (237, 0, 0), (238, 0, 0), (239, 0, 0), (240, 0, 0), (241, 0, 0), (242, 0, 0), (243, 0, 0), (244, 0, 0), (245, 0, 0), (246, 0, 0), (247, 0, 0), (248, 0, 0), (249, 0, 0), (250, 0, 0), (251, 0, 0), (252, 0, 0), (253, 0, 0), (254, 0, 0), (255, 0, 0), (256, 0, 0), (257, 0, 0), (258, 0, 0), (259, 0, 0), (260, 0, 0), (261, 0, 0), (262, 0, 0), (263, 0, 0), (264, 0, 0), (265, 0, 0), (266, 0, 0), (267, 0, 0), (268, 0, 0), (269, 0, 0), (270, 0, 0), (271, 0, 0), (272, 0, 0), (273, 0, 0), (274, 0, 0), (275, 0, 0), (276, 0, 0), (277, 0, 0), (278, 0, 0), (279, 0, 0), (280, 0, 0), (281, 0, 0), (282, 0, 0), (283, 0, 0), (284, 0, 0), (285, 0, 0), (286, 0, 0), (287, 0, 0), (288, 0, 0), (289, 0, 0), (290, 0, 0), (291, 0, 0), (292, 0, 0), (293, 0, 0), (294, 0, 0), (295, 0, 0), (296, 0, 0), (297, 0, 0), (298, 0, 0), (299, 0, 0), (300, 0, 0), (301, 0, 0), (302, 0, 0), (303, 0, 0), (304, 0, 0), (305, 0, 0), (306, 0, 0), (307, 0, 0), (308, 0, 0), (309, 0, 0), (310, 0, 0), (311, 0, 0), (312, 0, 0), (313, 0, 0), (314, 0, 0), (315, 0, 0), (316, 0, 0), (317, 0, 0), (318, 0, 0), (319, 0, 0), (320, 0, 0), (321, 0, 0), (322, 0, 0), (323, 0, 0), (324, 0, 0), (325, 0, 0), (326, 0, 0), (327, 0, 0), (328, 0, 0), (329, 0, 0), (330, 0, 0), (331, 0, 0), (332, 0, 0), (333, 0, 0), (334, 0, 0), (335, 0, 0), (336, 0, 0), (337, 0, 0), (338, 0, 0), (339, 0, 0), (340, 0, 0), (341, 0, 0), (342, 0, 0), (343, 0, 0), (344, 0, 0), (345, 0, 0), (346, 0, 0), (347, 0, 0), (348, 0, 0), (349, 0, 0), (350, 0, 0), (351, 0, 0), (352, 0, 0), (353, 0, 0), (354, 0, 0), (355, 0, 0), (356, 0, 0), (357, 0, 0), (358, 0, 0), (359, 0, 0), (360, 0, 0), (361, 0, 0), (362, 0, 0), (363, 0, 0), (364, 0, 0), (365, 0, 0), (366, 0, 0), (367, 0, 0), (368, 0, 0), (369, 0, 0), (370, 0, 0), (371, 0, 0), (372, 0, 0), (373, 0, 0), (374, 0, 0), (375, 0, 0), (376, 0, 0), (377, 0, 0), (378, 0, 0), (379, 0, 0), (380, 0, 0), (381, 0, 0), (382, 0, 0), (383, 0, 0), (384, 0, 0), (385, 0, 0), (386, 0, 0), (387, 0, 0), (388, 0, 0), (389, 0, 0), (390, 0, 0), (391, 0, 0), (392, 0, 0), (393, 0, 0), (394, 0, 0), (395, 0, 0), (396, 0, 0), (397, 0, 0), (398, 0, 0), (399, 0, 0), (400, 0, 0), (401, 0, 0), (402, 0, 0), (403, 0, 0), (404, 0, 0), (405, 0, 0), (406, 0, 0), (407, 0, 0), (408, 0, 0), (409, 0, 0), (410, 0, 0), (411, 0, 0), (412, 0, 0), (413, 0, 0), (414, 0, 0), (415, 0, 0), (416, 0, 0), (417, 0, 0), (418, 0, 0), (419, 0, 0), (420, 0, 0), (421, 0, 0), (422, 0, 0), (423, 0, 0), (424, 0, 0), (425, 0, 0), (426, 0, 0), (427, 0, 0), (428, 0, 0), (429, 0, 0), (430, 0, 0), (431, 0, 0), (432, 0, 0), (433, 0, 0), (434, 0, 0), (435, 0, 0), (436, 0, 0), (437, 0, 0), (438, 0, 0), (439, 0, 0), (440, 0, 0), (441, 0, 0), (442, 0, 0), 'end']\n"
     ]
    }
   ],
   "source": [
    "# Solve the shortest path problem using the Bellman-Ford algorithm\n",
    "length, nodes, negative_cycle = bf.bellman_ford(G, source=(0, BUDGET, ROSTER_SIZE), target=\"end\", \n",
    "                                                weight=\"length\")\n",
    "\n",
    "print(f\"Negative cycle? {negative_cycle}\")\n",
    "print(f\"Shortest path length: {length}\")\n",
    "print(f\"Shortest path: {nodes}\")"
   ]
  },
  {
   "cell_type": "markdown",
   "metadata": {},
   "source": [
    "* It's easy to see what the maximum possible total z-score is... however, which players should we select to get this maximum total z-score?\n",
    "\n",
    "* Instead of reading through the path of 400+ nodes to figure out which players to select, let's write some code to do this for us.\n",
    "\n",
    "* We know that we select a player whenever the number of remaining roster spots $n_2$ goes down by 1 from stage to stage. So..."
   ]
  },
  {
   "cell_type": "code",
   "execution_count": 16,
   "metadata": {},
   "outputs": [
    {
     "name": "stdout",
     "output_type": "stream",
     "text": [
      "Node: (0, 50, 12)  Player: Stephen Curry  Positions: ['PG', 'SG'], Price: 18  Z-Score: 12.681704920021767\n",
      "Node: (8, 32, 11)  Player: Nikola Jokic  Positions: ['PF', 'C'], Price: 9  Z-Score: 6.245534045281088\n",
      "Node: (9, 23, 10)  Player: Klay Thompson  Positions: ['SG', 'SF'], Price: 8  Z-Score: 5.781494181785728\n",
      "Node: (11, 15, 9)  Player: Cole Aldrich  Positions: ['C'], Price: 1  Z-Score: 5.689641521236912\n",
      "Node: (17, 14, 8)  Player: Boban Marjanovic  Positions: ['C'], Price: 1  Z-Score: 4.542112513644865\n",
      "Node: (23, 13, 7)  Player: Brandan Wright  Positions: ['PF', 'C'], Price: 1  Z-Score: 4.092581777062199\n",
      "Node: (24, 12, 6)  Player: Jrue Holiday  Positions: ['PG'], Price: 3  Z-Score: 4.0156102748746365\n",
      "Node: (27, 9, 5)  Player: Dirk Nowitzki  Positions: ['PF', 'C'], Price: 4  Z-Score: 3.798143244965448\n",
      "Node: (40, 5, 4)  Player: Kelly Olynyk  Positions: ['C'], Price: 2  Z-Score: 2.9855612991757123\n",
      "Node: (47, 3, 3)  Player: Jeremy Lamb  Positions: ['SG', 'SF'], Price: 1  Z-Score: 2.657902391350232\n",
      "Node: (51, 2, 2)  Player: Cameron Payne  Positions: ['PG'], Price: 1  Z-Score: 2.487896082671208\n",
      "Node: (52, 1, 1)  Player: Mike Muscala  Positions: ['PF', 'C'], Price: 1  Z-Score: 2.47551105679133\n"
     ]
    }
   ],
   "source": [
    "# Print selected players in a more user-friendly format\n",
    "# Get number of nodes in shortest path\n",
    "n_nodes = len(nodes)\n",
    "\n",
    "# Go through each node in the shortest path\n",
    "for i in range(n_nodes - 2):\n",
    "    \n",
    "    # Node in current stage\n",
    "    (t, n1, n2) = nodes[i]\n",
    "    \n",
    "    # Node in next stage\n",
    "    (next_t, next_n1, next_n2) = nodes[i + 1]\n",
    "    \n",
    "    # If n2 isn't the same from one stage to the next, print the player's info\n",
    "    if n2 != next_n2:\n",
    "        print(f\"Node: {nodes[t]}  Player: {players[t]}  Positions: {positions[t]}, Price: {prices[t]}  Z-Score: {zscores[t]}\")"
   ]
  },
  {
   "cell_type": "markdown",
   "metadata": {
    "collapsed": true
   },
   "source": [
    "## Incorporating other roster constraints"
   ]
  },
  {
   "cell_type": "markdown",
   "metadata": {},
   "source": [
    "* Fantasy basketball leagues usually have some roster constraints &mdash; in particular, on player positions.\n",
    "\n",
    "* For example, suppose our roster must have exactly 2 players that can play center (C).\n",
    "\n",
    "* How can we modify our dynamic program to accomodate this? Write a new dynamic program on paper."
   ]
  },
  {
   "cell_type": "markdown",
   "metadata": {},
   "source": [
    "* How do we need to modify the code above to solve the new dynamic program?\n",
    "\n",
    "* A hint:\n",
    "\n",
    "    - To check if player $t$ can play center, we can write:\n",
    "\n",
    "    ```python\n",
    "    if \"C\" in positions[t]:\n",
    "        ...\n",
    "    ```\n",
    "\n",
    "    - This code does what it looks like: it checks if `\"C\"` is in the list of positions `positions[t]` that player $t$ can play."
   ]
  },
  {
   "cell_type": "code",
   "execution_count": 17,
   "metadata": {},
   "outputs": [
    {
     "name": "stdout",
     "output_type": "stream",
     "text": [
      "Negative cycle? False\n",
      "Shortest path length: -54.39369050175551\n",
      "Shortest path: [(0, 50, 12, 2), (1, 32, 11, 2), (2, 32, 11, 2), (3, 17, 10, 2), (4, 17, 10, 2), (5, 17, 10, 2), (6, 17, 10, 2), (7, 17, 10, 2), (8, 17, 10, 2), (9, 17, 10, 2), (10, 17, 10, 2), (11, 17, 10, 2), (12, 16, 9, 1), (13, 16, 9, 1), (14, 16, 9, 1), (15, 16, 9, 1), (16, 16, 9, 1), (17, 16, 9, 1), (18, 15, 8, 0), (19, 15, 8, 0), (20, 15, 8, 0), (21, 15, 8, 0), (22, 15, 8, 0), (23, 15, 8, 0), (24, 15, 8, 0), (25, 12, 7, 0), (26, 12, 7, 0), (27, 12, 7, 0), (28, 12, 7, 0), (29, 12, 7, 0), (30, 12, 7, 0), (31, 12, 7, 0), (32, 9, 6, 0), (33, 5, 5, 0), (34, 5, 5, 0), (35, 5, 5, 0), (36, 5, 5, 0), (37, 5, 5, 0), (38, 5, 5, 0), (39, 5, 5, 0), (40, 5, 5, 0), (41, 5, 5, 0), (42, 5, 5, 0), (43, 5, 5, 0), (44, 5, 5, 0), (45, 5, 5, 0), (46, 5, 5, 0), (47, 5, 5, 0), (48, 4, 4, 0), (49, 4, 4, 0), (50, 4, 4, 0), (51, 4, 4, 0), (52, 3, 3, 0), (53, 3, 3, 0), (54, 3, 3, 0), (55, 3, 3, 0), (56, 3, 3, 0), (57, 3, 3, 0), (58, 3, 3, 0), (59, 3, 3, 0), (60, 2, 2, 0), (61, 2, 2, 0), (62, 2, 2, 0), (63, 2, 2, 0), (64, 1, 1, 0), (65, 1, 1, 0), (66, 0, 0, 0), (67, 0, 0, 0), (68, 0, 0, 0), (69, 0, 0, 0), (70, 0, 0, 0), (71, 0, 0, 0), (72, 0, 0, 0), (73, 0, 0, 0), (74, 0, 0, 0), (75, 0, 0, 0), (76, 0, 0, 0), (77, 0, 0, 0), (78, 0, 0, 0), (79, 0, 0, 0), (80, 0, 0, 0), (81, 0, 0, 0), (82, 0, 0, 0), (83, 0, 0, 0), (84, 0, 0, 0), (85, 0, 0, 0), (86, 0, 0, 0), (87, 0, 0, 0), (88, 0, 0, 0), (89, 0, 0, 0), (90, 0, 0, 0), (91, 0, 0, 0), (92, 0, 0, 0), (93, 0, 0, 0), (94, 0, 0, 0), (95, 0, 0, 0), (96, 0, 0, 0), (97, 0, 0, 0), (98, 0, 0, 0), (99, 0, 0, 0), (100, 0, 0, 0), (101, 0, 0, 0), (102, 0, 0, 0), (103, 0, 0, 0), (104, 0, 0, 0), (105, 0, 0, 0), (106, 0, 0, 0), (107, 0, 0, 0), (108, 0, 0, 0), (109, 0, 0, 0), (110, 0, 0, 0), (111, 0, 0, 0), (112, 0, 0, 0), (113, 0, 0, 0), (114, 0, 0, 0), (115, 0, 0, 0), (116, 0, 0, 0), (117, 0, 0, 0), (118, 0, 0, 0), (119, 0, 0, 0), (120, 0, 0, 0), (121, 0, 0, 0), (122, 0, 0, 0), (123, 0, 0, 0), (124, 0, 0, 0), (125, 0, 0, 0), (126, 0, 0, 0), (127, 0, 0, 0), (128, 0, 0, 0), (129, 0, 0, 0), (130, 0, 0, 0), (131, 0, 0, 0), (132, 0, 0, 0), (133, 0, 0, 0), (134, 0, 0, 0), (135, 0, 0, 0), (136, 0, 0, 0), (137, 0, 0, 0), (138, 0, 0, 0), (139, 0, 0, 0), (140, 0, 0, 0), (141, 0, 0, 0), (142, 0, 0, 0), (143, 0, 0, 0), (144, 0, 0, 0), (145, 0, 0, 0), (146, 0, 0, 0), (147, 0, 0, 0), (148, 0, 0, 0), (149, 0, 0, 0), (150, 0, 0, 0), (151, 0, 0, 0), (152, 0, 0, 0), (153, 0, 0, 0), (154, 0, 0, 0), (155, 0, 0, 0), (156, 0, 0, 0), (157, 0, 0, 0), (158, 0, 0, 0), (159, 0, 0, 0), (160, 0, 0, 0), (161, 0, 0, 0), (162, 0, 0, 0), (163, 0, 0, 0), (164, 0, 0, 0), (165, 0, 0, 0), (166, 0, 0, 0), (167, 0, 0, 0), (168, 0, 0, 0), (169, 0, 0, 0), (170, 0, 0, 0), (171, 0, 0, 0), (172, 0, 0, 0), (173, 0, 0, 0), (174, 0, 0, 0), (175, 0, 0, 0), (176, 0, 0, 0), (177, 0, 0, 0), (178, 0, 0, 0), (179, 0, 0, 0), (180, 0, 0, 0), (181, 0, 0, 0), (182, 0, 0, 0), (183, 0, 0, 0), (184, 0, 0, 0), (185, 0, 0, 0), (186, 0, 0, 0), (187, 0, 0, 0), (188, 0, 0, 0), (189, 0, 0, 0), (190, 0, 0, 0), (191, 0, 0, 0), (192, 0, 0, 0), (193, 0, 0, 0), (194, 0, 0, 0), (195, 0, 0, 0), (196, 0, 0, 0), (197, 0, 0, 0), (198, 0, 0, 0), (199, 0, 0, 0), (200, 0, 0, 0), (201, 0, 0, 0), (202, 0, 0, 0), (203, 0, 0, 0), (204, 0, 0, 0), (205, 0, 0, 0), (206, 0, 0, 0), (207, 0, 0, 0), (208, 0, 0, 0), (209, 0, 0, 0), (210, 0, 0, 0), (211, 0, 0, 0), (212, 0, 0, 0), (213, 0, 0, 0), (214, 0, 0, 0), (215, 0, 0, 0), (216, 0, 0, 0), (217, 0, 0, 0), (218, 0, 0, 0), (219, 0, 0, 0), (220, 0, 0, 0), (221, 0, 0, 0), (222, 0, 0, 0), (223, 0, 0, 0), (224, 0, 0, 0), (225, 0, 0, 0), (226, 0, 0, 0), (227, 0, 0, 0), (228, 0, 0, 0), (229, 0, 0, 0), (230, 0, 0, 0), (231, 0, 0, 0), (232, 0, 0, 0), (233, 0, 0, 0), (234, 0, 0, 0), (235, 0, 0, 0), (236, 0, 0, 0), (237, 0, 0, 0), (238, 0, 0, 0), (239, 0, 0, 0), (240, 0, 0, 0), (241, 0, 0, 0), (242, 0, 0, 0), (243, 0, 0, 0), (244, 0, 0, 0), (245, 0, 0, 0), (246, 0, 0, 0), (247, 0, 0, 0), (248, 0, 0, 0), (249, 0, 0, 0), (250, 0, 0, 0), (251, 0, 0, 0), (252, 0, 0, 0), (253, 0, 0, 0), (254, 0, 0, 0), (255, 0, 0, 0), (256, 0, 0, 0), (257, 0, 0, 0), (258, 0, 0, 0), (259, 0, 0, 0), (260, 0, 0, 0), (261, 0, 0, 0), (262, 0, 0, 0), (263, 0, 0, 0), (264, 0, 0, 0), (265, 0, 0, 0), (266, 0, 0, 0), (267, 0, 0, 0), (268, 0, 0, 0), (269, 0, 0, 0), (270, 0, 0, 0), (271, 0, 0, 0), (272, 0, 0, 0), (273, 0, 0, 0), (274, 0, 0, 0), (275, 0, 0, 0), (276, 0, 0, 0), (277, 0, 0, 0), (278, 0, 0, 0), (279, 0, 0, 0), (280, 0, 0, 0), (281, 0, 0, 0), (282, 0, 0, 0), (283, 0, 0, 0), (284, 0, 0, 0), (285, 0, 0, 0), (286, 0, 0, 0), (287, 0, 0, 0), (288, 0, 0, 0), (289, 0, 0, 0), (290, 0, 0, 0), (291, 0, 0, 0), (292, 0, 0, 0), (293, 0, 0, 0), (294, 0, 0, 0), (295, 0, 0, 0), (296, 0, 0, 0), (297, 0, 0, 0), (298, 0, 0, 0), (299, 0, 0, 0), (300, 0, 0, 0), (301, 0, 0, 0), (302, 0, 0, 0), (303, 0, 0, 0), (304, 0, 0, 0), (305, 0, 0, 0), (306, 0, 0, 0), (307, 0, 0, 0), (308, 0, 0, 0), (309, 0, 0, 0), (310, 0, 0, 0), (311, 0, 0, 0), (312, 0, 0, 0), (313, 0, 0, 0), (314, 0, 0, 0), (315, 0, 0, 0), (316, 0, 0, 0), (317, 0, 0, 0), (318, 0, 0, 0), (319, 0, 0, 0), (320, 0, 0, 0), (321, 0, 0, 0), (322, 0, 0, 0), (323, 0, 0, 0), (324, 0, 0, 0), (325, 0, 0, 0), (326, 0, 0, 0), (327, 0, 0, 0), (328, 0, 0, 0), (329, 0, 0, 0), (330, 0, 0, 0), (331, 0, 0, 0), (332, 0, 0, 0), (333, 0, 0, 0), (334, 0, 0, 0), (335, 0, 0, 0), (336, 0, 0, 0), (337, 0, 0, 0), (338, 0, 0, 0), (339, 0, 0, 0), (340, 0, 0, 0), (341, 0, 0, 0), (342, 0, 0, 0), (343, 0, 0, 0), (344, 0, 0, 0), (345, 0, 0, 0), (346, 0, 0, 0), (347, 0, 0, 0), (348, 0, 0, 0), (349, 0, 0, 0), (350, 0, 0, 0), (351, 0, 0, 0), (352, 0, 0, 0), (353, 0, 0, 0), (354, 0, 0, 0), (355, 0, 0, 0), (356, 0, 0, 0), (357, 0, 0, 0), (358, 0, 0, 0), (359, 0, 0, 0), (360, 0, 0, 0), (361, 0, 0, 0), (362, 0, 0, 0), (363, 0, 0, 0), (364, 0, 0, 0), (365, 0, 0, 0), (366, 0, 0, 0), (367, 0, 0, 0), (368, 0, 0, 0), (369, 0, 0, 0), (370, 0, 0, 0), (371, 0, 0, 0), (372, 0, 0, 0), (373, 0, 0, 0), (374, 0, 0, 0), (375, 0, 0, 0), (376, 0, 0, 0), (377, 0, 0, 0), (378, 0, 0, 0), (379, 0, 0, 0), (380, 0, 0, 0), (381, 0, 0, 0), (382, 0, 0, 0), (383, 0, 0, 0), (384, 0, 0, 0), (385, 0, 0, 0), (386, 0, 0, 0), (387, 0, 0, 0), (388, 0, 0, 0), (389, 0, 0, 0), (390, 0, 0, 0), (391, 0, 0, 0), (392, 0, 0, 0), (393, 0, 0, 0), (394, 0, 0, 0), (395, 0, 0, 0), (396, 0, 0, 0), (397, 0, 0, 0), (398, 0, 0, 0), (399, 0, 0, 0), (400, 0, 0, 0), (401, 0, 0, 0), (402, 0, 0, 0), (403, 0, 0, 0), (404, 0, 0, 0), (405, 0, 0, 0), (406, 0, 0, 0), (407, 0, 0, 0), (408, 0, 0, 0), (409, 0, 0, 0), (410, 0, 0, 0), (411, 0, 0, 0), (412, 0, 0, 0), (413, 0, 0, 0), (414, 0, 0, 0), (415, 0, 0, 0), (416, 0, 0, 0), (417, 0, 0, 0), (418, 0, 0, 0), (419, 0, 0, 0), (420, 0, 0, 0), (421, 0, 0, 0), (422, 0, 0, 0), (423, 0, 0, 0), (424, 0, 0, 0), (425, 0, 0, 0), (426, 0, 0, 0), (427, 0, 0, 0), (428, 0, 0, 0), (429, 0, 0, 0), (430, 0, 0, 0), (431, 0, 0, 0), (432, 0, 0, 0), (433, 0, 0, 0), (434, 0, 0, 0), (435, 0, 0, 0), (436, 0, 0, 0), (437, 0, 0, 0), (438, 0, 0, 0), (439, 0, 0, 0), (440, 0, 0, 0), (441, 0, 0, 0), (442, 0, 0, 0), 'end']\n",
      "Node: (0, 50, 12, 2)  Player: Stephen Curry  Positions: ['PG', 'SG'], Price: 18  Z-Score: 12.681704920021767\n",
      "Node: (2, 32, 11, 2)  Player: Chris Paul  Positions: ['PG'], Price: 15  Z-Score: 8.485618602625312\n",
      "Node: (11, 17, 10, 2)  Player: Cole Aldrich  Positions: ['C'], Price: 1  Z-Score: 5.689641521236912\n",
      "Node: (17, 16, 9, 1)  Player: Boban Marjanovic  Positions: ['C'], Price: 1  Z-Score: 4.542112513644865\n",
      "Node: (24, 15, 8, 0)  Player: Jrue Holiday  Positions: ['PG'], Price: 3  Z-Score: 4.0156102748746365\n",
      "Node: (31, 12, 7, 0)  Player: Robert Covington  Positions: ['SF', 'PF'], Price: 3  Z-Score: 3.418952349391036\n",
      "Node: (32, 9, 6, 0)  Player: Nikola Mirotic  Positions: ['SF', 'PF'], Price: 4  Z-Score: 3.4146385523834835\n",
      "Node: (47, 5, 5, 0)  Player: Jeremy Lamb  Positions: ['SG', 'SF'], Price: 1  Z-Score: 2.657902391350232\n",
      "Node: (51, 4, 4, 0)  Player: Cameron Payne  Positions: ['PG'], Price: 1  Z-Score: 2.487896082671208\n",
      "Node: (59, 3, 3, 0)  Player: Toney Douglas  Positions: ['PG', 'SG'], Price: 1  Z-Score: 2.3923422473096463\n",
      "Node: (63, 2, 2, 0)  Player: Alan Williams  Positions: ['PF'], Price: 1  Z-Score: 2.34597794227906\n",
      "Node: (65, 1, 1, 0)  Player: C.J. Miles  Positions: ['SG', 'SF'], Price: 1  Z-Score: 2.2612931039673394\n"
     ]
    }
   ],
   "source": [
    "# Create empty digraph\n",
    "H = nx.DiGraph()\n",
    "\n",
    "# Add stage-state nodes (t, n1, n2, n3)\n",
    "# t = player\n",
    "# n1 = remaining budget\n",
    "# n2 = remaining roster spots\n",
    "# n3 = remaining C roster spots\n",
    "for t in range(0, n_players):\n",
    "    for n1 in range(0, BUDGET + 1):\n",
    "        for n2 in range(0, ROSTER_SIZE + 1):\n",
    "            for n3 in range(0, 3):\n",
    "                G.add_node((t, n1, n2, n3))\n",
    "\n",
    "# Add the end node\n",
    "H.add_node(\"end\")\n",
    "\n",
    "# Add edges corresponding to the decision of whether to take a player or not\n",
    "for t in range(0, n_players):\n",
    "    for n1 in range(0, BUDGET + 1):\n",
    "        for n2 in range(0, ROSTER_SIZE + 1):\n",
    "            for n3 in range(0, 3):\n",
    "            \n",
    "                # Don't take the player\n",
    "                H.add_edge((t, n1, n2, n3), (t + 1, n1, n2, n3), length=0)\n",
    "\n",
    "                # Take the player if there's enough left in the budget\n",
    "                # and there are enough roster spots\n",
    "                if n1 - prices[t] >= 0:\n",
    "                    if n2 - 1 >= 0:\n",
    "                    \n",
    "                        # If the player is a center, we can only add this edge if\n",
    "                        # there are enough remaining C roster spots\n",
    "                        if \"C\" in positions[t]:\n",
    "                            if n3 - 1 >= 0:\n",
    "                                H.add_edge((t, n1, n2, n3), \n",
    "                                           (t + 1, n1 - prices[t], n2 - 1, n3 - 1), \n",
    "                                           length=-zscores[t])\n",
    "\n",
    "                        # Otherwise, the number of remaining C roster spots stays the same\n",
    "                        else:\n",
    "                            H.add_edge((t, n1, n2, n3), (t + 1, n1 - prices[t], n2 - 1, n3), \n",
    "                                       length=-zscores[t])\n",
    "\n",
    "# Add edges from last stage to end, \n",
    "# only when number of remaining roster spots is 0 and\n",
    "# the number of remaining C roster spots is 0\n",
    "for n1 in range(0, BUDGET + 1):\n",
    "    H.add_edge((n_players, n1, 0, 0), \"end\", length=0)\n",
    "\n",
    "\n",
    "# Solve the shortest path problem using the Bellman-Ford algorithm    \n",
    "length, nodes, negative_cycle = bf.bellman_ford(H, source=(0, BUDGET, ROSTER_SIZE, 2), \n",
    "                                                target=\"end\", weight=\"length\")\n",
    "\n",
    "print(f\"Negative cycle? {negative_cycle}\")\n",
    "print(f\"Shortest path length: {length}\")\n",
    "print(f\"Shortest path: {nodes}\")\n",
    "\n",
    "# Print selected players in a more user-friendly format\n",
    "# Get number of nodes in shortest path\n",
    "n_nodes = len(nodes)\n",
    "\n",
    "# Go through each node in the shortest path\n",
    "for i in range(n_nodes - 2):\n",
    "    \n",
    "    # Node in current stage\n",
    "    (t, n1, n2, n3) = nodes[i]\n",
    "    \n",
    "    # Node in next stage\n",
    "    (next_t, next_n1, next_n2, next_n3) = nodes[i + 1]\n",
    "    \n",
    "    # If n2 isn't the same from one stage to the next, print the player's info\n",
    "    if n2 != next_n2:\n",
    "        print(f\"Node: {nodes[t]}  Player: {players[t]}  Positions: {positions[t]}, Price: {prices[t]}  Z-Score: {zscores[t]}\")"
   ]
  },
  {
   "cell_type": "markdown",
   "metadata": {},
   "source": [
    "## Food for thought"
   ]
  },
  {
   "cell_type": "markdown",
   "metadata": {},
   "source": [
    "* Can the dynamic programs we solved above help with an actual fantasy basketball draft? Why or why not?"
   ]
  },
  {
   "cell_type": "markdown",
   "metadata": {},
   "source": [
    "<!-- _Write your notes here. Double-click to edit._ -->\n",
    "* These DPs only give you the best possible roster. They don't model the draft process; in particular, not all players may be available when it's our turn to select, and the DPs don't use actual auction prices.\n",
    "\n",
    "* These DPs can help plan _during_ a draft: as a draft progresses, one can update the DP to remove the players that have been already selected, and use the DP to plan which of the remaining players to focus on."
   ]
  },
  {
   "cell_type": "markdown",
   "metadata": {},
   "source": [
    "---"
   ]
  },
  {
   "cell_type": "markdown",
   "metadata": {},
   "source": [
    "## Problems"
   ]
  },
  {
   "cell_type": "markdown",
   "metadata": {},
   "source": [
    "### Problem 1 (Airlift planning)"
   ]
  },
  {
   "cell_type": "markdown",
   "metadata": {},
   "source": [
    "See the accompanying PDF for this lesson."
   ]
  },
  {
   "cell_type": "markdown",
   "metadata": {},
   "source": [
    "### Problem 2 (Solving the airlift planning problem)"
   ]
  },
  {
   "cell_type": "markdown",
   "metadata": {},
   "source": [
    "Solve the dynamic program your formulated for Problem 1 using NetworkX. What is the maximum possible total capability value? Which requirements should be put on the plane to achieve this maximum total capability value?"
   ]
  },
  {
   "cell_type": "code",
   "execution_count": null,
   "metadata": {},
   "outputs": [],
   "source": []
  },
  {
   "cell_type": "code",
   "execution_count": 1,
   "metadata": {},
   "outputs": [
    {
     "name": "stdout",
     "output_type": "stream",
     "text": [
      "Negative cycle? False\n",
      "Shortest path length: -150\n",
      "Shortest path: [(0, 80, 700), (1, 80, 700), (2, 63, 570), (3, 37, 200), (4, 33, 20), (5, 33, 20), 'end']\n"
     ]
    }
   ],
   "source": [
    "# Solution\n",
    "# Import networkx and bellmanford\n",
    "import networkx as nx\n",
    "import bellmanford as bf\n",
    "\n",
    "# Create variables for weight and volume capacity\n",
    "MAX_WEIGHT = 80\n",
    "MAX_VOLUME = 700 \n",
    "\n",
    "# Create lists for capability values, weights, volumes\n",
    "value = [50, 30, 80, 40, 70]\n",
    "weight = [43, 17, 26, 4, 35]\n",
    "volume = [250, 130, 370, 180, 400]\n",
    "\n",
    "# Create empty graph\n",
    "G = nx.DiGraph()\n",
    "\n",
    "# Add stage-state nodes (t, n1, n2)\n",
    "#   t = stage, consider requirement t\n",
    "#   n1 = remaining weight\n",
    "#   n2 = remaining volume\n",
    "# \n",
    "# t = 0: large munitions\n",
    "# t = 1: small munitions\n",
    "# t = 2: food\n",
    "# t = 3: medical supplies\n",
    "# t = 4: repair parts\n",
    "# t = 5: end of decision process\n",
    "for t in range(0, 6):\n",
    "    for n1 in range(0, MAX_WEIGHT + 1):\n",
    "        for n2 in range(0, MAX_VOLUME + 1):\n",
    "            G.add_node((t, n1, n2))\n",
    "\n",
    "# Add end node\n",
    "G.add_node(\"end\")\n",
    "\n",
    "# Add edges corresponding to decisions\n",
    "# Remember we're maximizing, so the lengths should be negative of the values\n",
    "for t in range(0, 5):\n",
    "    for n1 in range(0, MAX_WEIGHT + 1):\n",
    "        for n2 in range(0, MAX_VOLUME + 1):\n",
    "            # Take requirement t, check if it fits first\n",
    "            if n1 - weight[t] >= 0:\n",
    "                if n2 - volume[t] >= 0:\n",
    "                    G.add_edge((t, n1, n2), (t + 1, n1 - weight[t], n2 - volume[t]), \n",
    "                               length=-value[t])\n",
    "\n",
    "            # Don't take requirement t\n",
    "            G.add_edge((t, n1, n2), (t + 1, n1, n2), length=0)\n",
    "\n",
    "# Add edges from last stage to end node\n",
    "for n1 in range(0, MAX_WEIGHT + 1):\n",
    "    for n2 in range(0, MAX_VOLUME + 1):\n",
    "        G.add_edge((5, n1, n2), \"end\", length = 0)\n",
    "\n",
    "# Solve the DP/shortest path problem using the Bellman-Ford algorithm\n",
    "length, nodes, negative_cycle = bf.bellman_ford(G, source=(0, MAX_WEIGHT, MAX_VOLUME), \n",
    "                                                target=\"end\", weight=\"length\")\n",
    "\n",
    "print(f\"Negative cycle? {negative_cycle}\")\n",
    "print(f\"Shortest path length: {length}\")\n",
    "print(f\"Shortest path: {nodes}\")"
   ]
  },
  {
   "cell_type": "markdown",
   "metadata": {},
   "source": [
    "* The maximum possible total capability value is 150.\n",
    "\n",
    "* To achieve this maximum total capability value, we should put the small munitions, food, and medical supplies on the C-17."
   ]
  }
 ],
 "metadata": {
  "kernelspec": {
   "display_name": "Python 3",
   "language": "python",
   "name": "python3"
  },
  "language_info": {
   "codemirror_mode": {
    "name": "ipython",
    "version": 3
   },
   "file_extension": ".py",
   "mimetype": "text/x-python",
   "name": "python",
   "nbconvert_exporter": "python",
   "pygments_lexer": "ipython3",
   "version": "3.7.6"
  }
 },
 "nbformat": 4,
 "nbformat_minor": 1
}
