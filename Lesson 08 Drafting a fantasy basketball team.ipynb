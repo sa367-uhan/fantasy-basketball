{
 "cells": [
  {
   "cell_type": "markdown",
   "metadata": {
    "hide_cell": true
   },
   "source": [
    "<span class='note'>*Make me look good.* Click on the cell below and press <kbd>Ctrl</kbd>-<kbd>Enter</kbd>.</span>"
   ]
  },
  {
   "cell_type": "code",
   "execution_count": null,
   "metadata": {
    "hide_cell": true
   },
   "outputs": [],
   "source": [
    "from IPython.core.display import HTML\n",
    "HTML(open('css/custom.css', 'r').read())"
   ]
  },
  {
   "cell_type": "markdown",
   "metadata": {
    "hide_cell": true
   },
   "source": [
    "<h5 class='prehead'>SA367 &middot; Mathematical Models for Decision Making &middot; Spring 2021 &middot; Uhan</h5>\n",
    "\n",
    "<h5 class='lesson'>Lesson 8.</h5>\n",
    "\n",
    "<h1 class='lesson_title'>Drafting a fantasy basketball team</h1>"
   ]
  },
  {
   "cell_type": "markdown",
   "metadata": {},
   "source": [
    "## The problem"
   ]
  },
  {
   "cell_type": "markdown",
   "metadata": {},
   "source": [
    "You're preparing for your upcoming fantasy basketball draft. You wonder: what is the best possible team you can draft?\n",
    "\n",
    "You have the following data:\n",
    "\n",
    "* Projected __auction prices__ for each player in the NBA.\n",
    "* The __z-score__ for each player: the sum of the number of standard deviations above the mean in the following 9 categories:\n",
    "    1. points per 36 minutes\n",
    "    2. 3 point field goals made per 36 minutes\n",
    "    3. number of rebounds per 36 minutes\n",
    "    4. number of assists per 36 minutes\n",
    "    5. number of steals per 36 minutes\n",
    "    6. number of blocks per 36 minutes\n",
    "    7. _negative_ of the number of turnovers per 36 minutes\n",
    "    8. field goal percentage\n",
    "    9. free throw percentage\n",
    "    \n",
    "Your roster must have exactly 12 players, and you have a budget of \\$50. You want to maximize the total z-score of your team.\n",
    "\n",
    "Formulate this problem as a dynamic program by giving its shortest/longest path representation."
   ]
  },
  {
   "cell_type": "markdown",
   "metadata": {},
   "source": [
    "## Setting up the data"
   ]
  },
  {
   "cell_type": "markdown",
   "metadata": {},
   "source": [
    "* In the same folder as this notebook, there is a file called `fantasy_basketball_nba2017.csv` with the data described above.\n",
    "    - The z-scores were computed using projected stats from [Basketball Reference](http://www.basketball-reference.com/friv/projections.cgi).\n",
    "    - Projected auction prices were taken from [Yahoo! Fantasy Sports](https://basketball.fantasysports.yahoo.com/nba/draftanalysis?tab=AD&pos=ALL&sort=DA_AP), normalized to a budget of \\$50.\n",
    "    \n",
    "\n",
    "*  Let's take a look using pandas. First, let's import pandas:"
   ]
  },
  {
   "cell_type": "code",
   "execution_count": null,
   "metadata": {},
   "outputs": [],
   "source": [
    "import pandas as pd"
   ]
  },
  {
   "cell_type": "markdown",
   "metadata": {},
   "source": [
    "* Now we can read the `csv` file into a pandas DataFrame and inspect the first few rows:"
   ]
  },
  {
   "cell_type": "code",
   "execution_count": null,
   "metadata": {},
   "outputs": [],
   "source": [
    "# Read csv file with data\n",
    "df = pd.read_csv('fantasy_basketball_nba2017.csv')\n",
    "\n",
    "# Print the first 5 rows of df\n",
    "df.head()"
   ]
  },
  {
   "cell_type": "markdown",
   "metadata": {},
   "source": [
    "* As we can see, the data also contains the team and positions for each player.\n",
    "\n",
    "* Next, let's create some lists that correspond to the relevant columns of the dataset.\n",
    "\n",
    "* Recall that we can grab a column from a DataFrame like this:\n",
    "\n",
    "```python\n",
    "df['COLUMN_NAME']\n",
    "```\n",
    "\n",
    "* The `list()` function turns any list-like object (such as a column of a pandas DataFrame) into a Python list.\n",
    "\n",
    "* We can apply the `.str.split(\",\")` method to convert a comma-delimited string into a list. This will be helpful in parsing the positions that a player can play, since many players can play multiple positions."
   ]
  },
  {
   "cell_type": "code",
   "execution_count": null,
   "metadata": {},
   "outputs": [],
   "source": [
    "# Create a list of players\n",
    "\n",
    "# Create a list of zscores\n",
    "\n",
    "# Create a list of prices\n",
    "\n",
    "# Create a list of positions\n"
   ]
  },
  {
   "cell_type": "markdown",
   "metadata": {},
   "source": [
    "* Now we can look at player $t$ and his associated data like this: "
   ]
  },
  {
   "cell_type": "code",
   "execution_count": null,
   "metadata": {
    "scrolled": true
   },
   "outputs": [],
   "source": [
    "# Print out information about player 3 - Anthony Davis\n"
   ]
  },
  {
   "cell_type": "markdown",
   "metadata": {},
   "source": [
    "* Let's also create a variable that holds the number of players:"
   ]
  },
  {
   "cell_type": "code",
   "execution_count": null,
   "metadata": {
    "scrolled": false
   },
   "outputs": [],
   "source": [
    "# Create a variable for the number of players\n"
   ]
  },
  {
   "cell_type": "markdown",
   "metadata": {},
   "source": [
    "* Now we can use these lists and variables to construct the graph for the dynamic program."
   ]
  },
  {
   "cell_type": "markdown",
   "metadata": {},
   "source": [
    "## Solving the DP"
   ]
  },
  {
   "cell_type": "markdown",
   "metadata": {},
   "source": [
    "* There are two important constants in our problem: the budget, and the roster size. \n",
    "\n",
    "* Let's create variables to hold these constants.\n",
    "\n",
    "* This way, we can easily adapt our code to accomodate similar DPs with different budgets and roster sizes."
   ]
  },
  {
   "cell_type": "code",
   "execution_count": null,
   "metadata": {},
   "outputs": [],
   "source": [
    "# Create variables to hold constants: budget, roster size\n"
   ]
  },
  {
   "cell_type": "markdown",
   "metadata": {},
   "source": [
    "* Next, let's import `networkx` and `bellmanford`:"
   ]
  },
  {
   "cell_type": "code",
   "execution_count": null,
   "metadata": {},
   "outputs": [],
   "source": [
    "import networkx as nx\n",
    "import bellmanford as bf"
   ]
  },
  {
   "cell_type": "markdown",
   "metadata": {},
   "source": [
    "* As usual, we start with an empty graph:"
   ]
  },
  {
   "cell_type": "code",
   "execution_count": null,
   "metadata": {},
   "outputs": [],
   "source": [
    "# Create empty digraph\n"
   ]
  },
  {
   "cell_type": "markdown",
   "metadata": {},
   "source": [
    "* Next, let's add the nodes:"
   ]
  },
  {
   "cell_type": "code",
   "execution_count": null,
   "metadata": {},
   "outputs": [],
   "source": [
    "# Add stage-state nodes (t, n1, n2)\n",
    "\n",
    "\n",
    "# Add the end node\n"
   ]
  },
  {
   "cell_type": "markdown",
   "metadata": {},
   "source": [
    "* How many nodes do we have in our graph?"
   ]
  },
  {
   "cell_type": "code",
   "execution_count": null,
   "metadata": {},
   "outputs": [],
   "source": [
    "# Print number of nodes in digraph\n",
    "print(G.number_of_nodes())"
   ]
  },
  {
   "cell_type": "markdown",
   "metadata": {},
   "source": [
    "* Now it's time to add the edges.\n",
    "\n",
    "* Let's start with the edges corresponding to the decision of whether to take a player or not:"
   ]
  },
  {
   "cell_type": "code",
   "execution_count": null,
   "metadata": {},
   "outputs": [],
   "source": [
    "# Add edges corresponding to the decision of whether to take a player or not\n",
    "           \n",
    "            # Don't take the player\n",
    "\n",
    "            # Take the player if there's enough left in the budget\n",
    "            # and there are enough roster spots\n"
   ]
  },
  {
   "cell_type": "markdown",
   "metadata": {},
   "source": [
    "* Now we can add the edges from the last stage to the end node. Remember to only add edges from the last stage if the number of remaining roster spots $n_2$ is equal to 0!"
   ]
  },
  {
   "cell_type": "code",
   "execution_count": null,
   "metadata": {},
   "outputs": [],
   "source": [
    "# Add edges from last stage to end, \n",
    "# only when number of remaining roster spots is 0\n"
   ]
  },
  {
   "cell_type": "markdown",
   "metadata": {},
   "source": [
    "* How many edges do we have in our graph?"
   ]
  },
  {
   "cell_type": "code",
   "execution_count": null,
   "metadata": {},
   "outputs": [],
   "source": [
    "# Print number of edges\n",
    "print(G.number_of_edges())"
   ]
  },
  {
   "cell_type": "markdown",
   "metadata": {},
   "source": [
    "* Finally, let's solve the shortest path problem we've constructed using the Bellman-Ford algorithm:"
   ]
  },
  {
   "cell_type": "code",
   "execution_count": null,
   "metadata": {},
   "outputs": [],
   "source": [
    "# Solve the shortest path problem using the Bellman-Ford algorithm\n",
    "length, nodes, negative_cycle = bf.bellman_ford(G, source=(0, BUDGET, ROSTER_SIZE), target=\"end\", \n",
    "                                                weight=\"length\")\n",
    "\n",
    "print(f\"Negative cycle? {negative_cycle}\")\n",
    "print(f\"Shortest path length: {length}\")\n",
    "print(f\"Shortest path: {nodes}\")"
   ]
  },
  {
   "cell_type": "markdown",
   "metadata": {},
   "source": [
    "* It's easy to see what the maximum possible total z-score is... however, which players should we select to get this maximum total z-score?\n",
    "\n",
    "* Instead of reading through the path of 400+ nodes to figure out which players to select, let's write some code to do this for us.\n",
    "\n",
    "* We know that we select a player whenever the number of remaining roster spots $n_2$ goes down by 1 from stage to stage. So..."
   ]
  },
  {
   "cell_type": "code",
   "execution_count": null,
   "metadata": {},
   "outputs": [],
   "source": [
    "# Print selected players in a more user-friendly format\n",
    "# Get number of nodes in shortest path\n",
    "\n",
    "# Go through each node in the shortest path\n",
    "    \n",
    "    # Node in current stage\n",
    "    \n",
    "    # Node in next stage\n",
    "    \n",
    "    # If n2 isn't the same from one stage to the next, print the player's info\n"
   ]
  },
  {
   "cell_type": "markdown",
   "metadata": {
    "collapsed": true
   },
   "source": [
    "## Incorporating other roster constraints"
   ]
  },
  {
   "cell_type": "markdown",
   "metadata": {},
   "source": [
    "* Fantasy basketball leagues usually have some roster constraints &mdash; in particular, on player positions.\n",
    "\n",
    "* For example, suppose our roster must have exactly 2 players that can play center (C).\n",
    "\n",
    "* How can we modify our dynamic program to accomodate this? Write a new dynamic program on paper."
   ]
  },
  {
   "cell_type": "markdown",
   "metadata": {},
   "source": [
    "* How do we need to modify the code above to solve the new dynamic program?\n",
    "\n",
    "* A hint:\n",
    "\n",
    "    - To check if player $t$ can play center, we can write:\n",
    "\n",
    "    ```python\n",
    "    if \"C\" in positions[t]:\n",
    "        ...\n",
    "    ```\n",
    "\n",
    "    - This code does what it looks like: it checks if `\"C\"` is in the list of positions `positions[t]` that player $t$ can play."
   ]
  },
  {
   "cell_type": "code",
   "execution_count": null,
   "metadata": {},
   "outputs": [],
   "source": []
  },
  {
   "cell_type": "markdown",
   "metadata": {},
   "source": [
    "## Food for thought"
   ]
  },
  {
   "cell_type": "markdown",
   "metadata": {},
   "source": [
    "* Can the dynamic programs we solved above help with an actual fantasy basketball draft? Why or why not?"
   ]
  },
  {
   "cell_type": "markdown",
   "metadata": {},
   "source": [
    "_Write your notes here. Double-click to edit._"
   ]
  },
  {
   "cell_type": "markdown",
   "metadata": {},
   "source": [
    "---"
   ]
  },
  {
   "cell_type": "markdown",
   "metadata": {},
   "source": [
    "## Problems"
   ]
  },
  {
   "cell_type": "markdown",
   "metadata": {},
   "source": [
    "### Problem 1 (Airlift planning)"
   ]
  },
  {
   "cell_type": "markdown",
   "metadata": {},
   "source": [
    "See the accompanying PDF for this lesson."
   ]
  },
  {
   "cell_type": "markdown",
   "metadata": {},
   "source": [
    "### Problem 2 (Solving the airlift planning problem)"
   ]
  },
  {
   "cell_type": "markdown",
   "metadata": {},
   "source": [
    "Solve the dynamic program you formulated for Problem 1 using NetworkX. What is the maximum possible total capability value? Which requirements should be put on the plane to achieve this maximum total capability value?"
   ]
  },
  {
   "cell_type": "code",
   "execution_count": null,
   "metadata": {},
   "outputs": [],
   "source": []
  },
  {
   "cell_type": "markdown",
   "metadata": {},
   "source": [
    "_Write your notes here. Double-click to edit._"
   ]
  }
 ],
 "metadata": {
  "kernelspec": {
   "display_name": "Python 3",
   "language": "python",
   "name": "python3"
  },
  "language_info": {
   "codemirror_mode": {
    "name": "ipython",
    "version": 3
   },
   "file_extension": ".py",
   "mimetype": "text/x-python",
   "name": "python",
   "nbconvert_exporter": "python",
   "pygments_lexer": "ipython3",
   "version": "3.7.6"
  }
 },
 "nbformat": 4,
 "nbformat_minor": 1
}
